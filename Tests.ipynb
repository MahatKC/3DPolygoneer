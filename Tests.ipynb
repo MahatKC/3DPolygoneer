{
 "metadata": {
  "language_info": {
   "codemirror_mode": {
    "name": "ipython",
    "version": 3
   },
   "file_extension": ".py",
   "mimetype": "text/x-python",
   "name": "python",
   "nbconvert_exporter": "python",
   "pygments_lexer": "ipython3",
   "version": "3.8.5"
  },
  "orig_nbformat": 4,
  "kernelspec": {
   "name": "python3",
   "display_name": "Python 3.8.5 64-bit ('base': conda)"
  },
  "interpreter": {
   "hash": "80d01b9952232eb7f083fc8f059777ea18c94fbe45e340b293d04682534625d1"
  }
 },
 "nbformat": 4,
 "nbformat_minor": 2,
 "cells": [
  {
   "cell_type": "code",
   "execution_count": 1,
   "metadata": {},
   "outputs": [],
   "source": [
    "import numpy as np \n",
    "import time\n"
   ]
  },
  {
   "cell_type": "code",
   "execution_count": 4,
   "metadata": {},
   "outputs": [
    {
     "output_type": "stream",
     "name": "stdout",
     "text": [
      "0.0004296302795410156\n0.0001888275146484375\n"
     ]
    }
   ],
   "source": [
    "def soma(x,y):\n",
    "    return x+y\n",
    "def sub(x,y):\n",
    "    return x-y\n",
    "def mult(x,y):\n",
    "    return x*y\n",
    "\n",
    "def funcaozona(p,q,r,s,t,u):\n",
    "    a=soma(p,q)\n",
    "    b=sub(s,r)\n",
    "    c=mult(a,b)\n",
    "    d=soma(c,t)\n",
    "    e=sub(u,d)\n",
    "    return e\n",
    "\n",
    "t0=time.time()\n",
    "f=funcaozona(1,2,3,4,5,6)\n",
    "t1=time.time()\n",
    "print(t1-t0)\n",
    "\n",
    "def funcaozona2(p,q,r,s,t,u):\n",
    "    a=p+q\n",
    "    b=s-r\n",
    "    c=a*b\n",
    "    d=c+t\n",
    "    e=u-d\n",
    "    return e\n",
    "\n",
    "t0=time.time()\n",
    "f=funcaozona2(1,2,3,4,5,6)\n",
    "t1=time.time()\n",
    "print(t1-t0)"
   ]
  },
  {
   "cell_type": "code",
   "execution_count": 15,
   "metadata": {},
   "outputs": [
    {
     "output_type": "stream",
     "name": "stdout",
     "text": [
      "[[  0.   10.   20.   30.   40.   50. ]\n [ -0.  -10.  -20.  -30.  -40.  -50. ]\n [  0.    0.1   0.2   0.3   0.4   0.5]\n [  1.    1.    2.    3.    4.    5. ]]\n[[  0.   10.   10.   10.   10.   10. ]\n [ -0.  -10.  -10.  -10.  -10.  -10. ]\n [  0.    0.1   0.1   0.1   0.1   0.1]\n [  1.    1.    1.    1.    1.    1. ]]\n"
     ]
    }
   ],
   "source": [
    "x=np.zeros((4,6))+np.arange(6)\n",
    "x[3,0]=1\n",
    "x[0,:]*=10\n",
    "x[1,:]*=-10\n",
    "x[2,:]*=0.1\n",
    "print(x)\n",
    "x/=x[3,:]\n",
    "print(x)"
   ]
  },
  {
   "cell_type": "code",
   "execution_count": 6,
   "metadata": {},
   "outputs": [],
   "source": [
    "VRPx=3\n",
    "VRPy=2\n",
    "VRPz=1\n",
    "Px=2\n",
    "Py=1\n",
    "Pz=0\n",
    "Yx=0\n",
    "Yy=1\n",
    "Yz=0"
   ]
  },
  {
   "cell_type": "code",
   "execution_count": 200,
   "metadata": {},
   "outputs": [
    {
     "output_type": "stream",
     "name": "stdout",
     "text": [
      "0.0023093223571777344\n"
     ]
    }
   ],
   "source": [
    "t0=time.time()\n",
    "T = np.eye(4)\n",
    "T[:3,3] = -VRP\n",
    "R = np.eye(4)\n",
    "R[0,:3] = np.cross(v,n)\n",
    "R[1,:3] = v\n",
    "R[2,:3] = n\n",
    "F=np.dot(R,T)\n",
    "t1=time.time()\n",
    "print(t1-t0)"
   ]
  },
  {
   "cell_type": "code",
   "execution_count": 201,
   "metadata": {},
   "outputs": [
    {
     "output_type": "stream",
     "name": "stdout",
     "text": [
      "0.0018029212951660156\n"
     ]
    }
   ],
   "source": [
    "t0=time.time()\n",
    "R = np.eye(4)\n",
    "R[0,:3] = np.cross(v,n)\n",
    "R[1,:3] = v\n",
    "R[2,:3] = n\n",
    "R[0,3] = -np.dot(VRP,u)\n",
    "R[1,3] = -np.dot(VRP,v)\n",
    "R[2,3] = -np.dot(VRP,n)\n",
    "t1=time.time()\n",
    "print(t1-t0)"
   ]
  },
  {
   "cell_type": "code",
   "execution_count": 53,
   "metadata": {},
   "outputs": [],
   "source": [
    "VRP = np.array([VRPx, VRPy, VRPz])\n",
    "Y = np.array([Yx, Yy, Yz])\n",
    "N = VRP-np.array([Px, Py, Pz])\n",
    "n = N/(np.linalg.norm(N))\n",
    "V = Y-np.dot(np.dot(Y,n),n)\n",
    "v = V/(np.linalg.norm(V))\n",
    "u = np.cross(v,n)\n",
    "T = np.eye(4)\n",
    "T[:3,3] = -VRP\n",
    "R = np.concatenate((np.concatenate((np.stack((u,v,n), axis=0),np.zeros((1,3)))),np.zeros((4,1))),axis=1)\n",
    "R[3,3]=1\n"
   ]
  },
  {
   "cell_type": "code",
   "execution_count": 202,
   "metadata": {},
   "outputs": [
    {
     "output_type": "execute_result",
     "data": {
      "text/plain": [
       "2"
      ]
     },
     "metadata": {},
     "execution_count": 202
    }
   ],
   "source": [
    "-1%3"
   ]
  },
  {
   "cell_type": "code",
   "execution_count": 173,
   "metadata": {},
   "outputs": [
    {
     "output_type": "stream",
     "name": "stdout",
     "text": [
      "0.0011684894561767578\n"
     ]
    }
   ],
   "source": [
    "t0=time.time()\n",
    "R = np.concatenate((np.concatenate((np.stack((u,v,n), axis=0),np.zeros((1,3)))),np.zeros((4,1))),axis=1)\n",
    "R[3,3]=1\n",
    "t1=time.time()\n",
    "print(t1-t0)"
   ]
  },
  {
   "cell_type": "code",
   "execution_count": 179,
   "metadata": {},
   "outputs": [
    {
     "output_type": "stream",
     "name": "stdout",
     "text": [
      "0.0003917217254638672\n"
     ]
    }
   ],
   "source": [
    "t0=time.time()\n",
    "R=np.eye(4)\n",
    "R[0,:3]=u\n",
    "R[1,:3]=v\n",
    "R[2,:3]=n\n",
    "t1=time.time()\n",
    "print(t1-t0)"
   ]
  },
  {
   "cell_type": "code",
   "execution_count": null,
   "metadata": {},
   "outputs": [],
   "source": []
  },
  {
   "cell_type": "code",
   "execution_count": 50,
   "metadata": {},
   "outputs": [
    {
     "output_type": "stream",
     "name": "stdout",
     "text": [
      "[[ 1.  0.  0. -3.]\n [ 0.  1.  0. -2.]\n [ 0.  0.  1. -1.]\n [ 0.  0.  0.  1.]]\n[[ 0.70710678  0.         -0.70710678  0.        ]\n [-0.40824829  0.81649658 -0.40824829  0.        ]\n [ 0.57735027  0.57735027  0.57735027  0.        ]\n [ 0.          0.          0.          1.        ]]\n"
     ]
    }
   ],
   "source": [
    "print(T)\n",
    "print(R)"
   ]
  },
  {
   "cell_type": "code",
   "execution_count": 3,
   "metadata": {},
   "outputs": [
    {
     "output_type": "stream",
     "name": "stdout",
     "text": [
      "[[0. 0. 0. 1.]\n [0. 0. 0. 0.]\n [0. 0. 0. 0.]\n [0. 0. 0. 0.]]\n"
     ]
    }
   ],
   "source": [
    "bla = np.zeros((4,4))\n",
    "bla[0,3] = 1\n",
    "print(bla)"
   ]
  },
  {
   "cell_type": "code",
   "execution_count": 13,
   "metadata": {},
   "outputs": [
    {
     "output_type": "stream",
     "name": "stdout",
     "text": [
      "[[5. 0. 0.]\n [0. 5. 0.]\n [0. 0. 5.]]\n[[11. 10. 10.]\n [10. 11. 10.]\n [10. 10. 11.]]\n[[55.  0.  0.]\n [ 0. 55.  0.]\n [ 0.  0. 55.]]\n[[55. 50. 50.]\n [50. 55. 50.]\n [50. 50. 55.]]\n"
     ]
    }
   ],
   "source": [
    "a = np.eye(3)\n",
    "b = np.eye(3)\n",
    "c = b*5\n",
    "d = a+10\n",
    "print(c)\n",
    "print(d)\n",
    "print(c*d)\n",
    "print(np.dot(c,d))"
   ]
  },
  {
   "cell_type": "code",
   "execution_count": 33,
   "metadata": {},
   "outputs": [
    {
     "output_type": "stream",
     "name": "stdout",
     "text": [
      "Vitorias Um Linha: 2\nSpeedup Medio: 1.003462358649138\nVitorias Um Linha: 98\nSpeedup Medio: 1.167749041050426\n"
     ]
    }
   ],
   "source": [
    "t_umlinhaS = 0\n",
    "t_vlinhaS = 0\n",
    "speedupUm = 0\n",
    "speedupVa = 0\n",
    "for i in range(100):\n",
    "    t0=time.time()\n",
    "    for i in range(1,1000000):\n",
    "        b=i\n",
    "        c=i+1\n",
    "        d=i\n",
    "        e=i+1\n",
    "        f=2*i\n",
    "        g=i\n",
    "\n",
    "        a=((b*c)+(d*e))/(f-g)\n",
    "    t1=time.time()\n",
    "    t_umlinha = t1-t0\n",
    "\n",
    "    t0=time.time()\n",
    "    for i in range(1,1000000):\n",
    "        b=i\n",
    "        c=i+1\n",
    "        d=i\n",
    "        e=i+1\n",
    "        f=2*i\n",
    "        g=i\n",
    "\n",
    "        a=b\n",
    "        a*=c\n",
    "        a+=(d*e)\n",
    "        a/=(f-g)\n",
    "    t1=time.time()\n",
    "    t_vlinha = t1-t0\n",
    "\n",
    "    if t_vlinha<t_umlinha:\n",
    "        t_umlinhaS += 1\n",
    "        speedupUm += t_umlinha/t_vlinha\n",
    "    else:\n",
    "        t_vlinhaS +=1\n",
    "        speedupVa += t_vlinha/t_umlinha\n",
    "    \n",
    "print(f\"Vitorias Um Linha: {t_umlinhaS}\")\n",
    "print(f\"Speedup Medio: {speedupUm/t_umlinhaS}\")\n",
    "print(f\"Vitorias Um Linha: {t_vlinhaS}\")\n",
    "print(f\"Speedup Medio: {speedupVa/t_vlinhaS}\")"
   ]
  },
  {
   "cell_type": "code",
   "execution_count": 34,
   "metadata": {},
   "outputs": [
    {
     "output_type": "stream",
     "name": "stdout",
     "text": [
      "(3,)\n"
     ]
    }
   ],
   "source": [
    "a = np.array([1,2,3])\n",
    "print(np.shape(a))"
   ]
  },
  {
   "cell_type": "code",
   "execution_count": 36,
   "metadata": {},
   "outputs": [
    {
     "output_type": "stream",
     "name": "stdout",
     "text": [
      "(3, 1)\n"
     ]
    }
   ],
   "source": [
    "b=np.reshape(a, (1,np.shape(a)[0])).T\n",
    "print(np.shape(b))"
   ]
  },
  {
   "cell_type": "code",
   "execution_count": 39,
   "metadata": {},
   "outputs": [
    {
     "output_type": "stream",
     "name": "stdout",
     "text": [
      "True\n"
     ]
    }
   ],
   "source": [
    "c = np.array([[1],[2],[3]])\n",
    "print(np.array_equal(b,c))"
   ]
  },
  {
   "cell_type": "code",
   "execution_count": 14,
   "metadata": {},
   "outputs": [
    {
     "output_type": "stream",
     "name": "stdout",
     "text": [
      "[[0. 0. 0. 0. 0.]\n [0. 0. 0. 0. 0.]\n [0. 0. 0. 0. 0.]]\n"
     ]
    }
   ],
   "source": [
    "print(np.zeros((3,5)))"
   ]
  },
  {
   "cell_type": "code",
   "execution_count": 31,
   "metadata": {},
   "outputs": [
    {
     "output_type": "stream",
     "name": "stdout",
     "text": [
      "[[  0.  10.  20.  30.  40.  50.  60.  70.  80.  90. 100. 110.]\n [  0.  10.  20.  30.  40.  50.  60.  70.  80.  90. 100. 110.]\n [  0.  10.  20.  30.  40.  50.  60.  70.  80.  90. 100. 110.]]\n(3,)\n3\n[[1 2 3]]\n[[  1.  11.  21.  31.  41.  51.  61.  71.  81.  91. 101. 111.]\n [  2.  12.  22.  32.  42.  52.  62.  72.  82.  92. 102. 112.]\n [  3.  13.  23.  33.  43.  53.  63.  73.  83.  93. 103. 113.]]\n"
     ]
    }
   ],
   "source": [
    "sides = 12\n",
    "vertices = np.zeros((3,sides))+np.arange(sides)\n",
    "vertices = vertices*10\n",
    "\n",
    "alfa = np.array([1,2,3])\n",
    "#mul = np.arange(sides)\n",
    "print(vertices)\n",
    "\n",
    "print(np.shape(alfa))\n",
    "print(np.shape(alfa)[0])\n",
    "beta= np.reshape(alfa, (1,np.shape(alfa)[0]))\n",
    "print(beta)\n",
    "\n",
    "vertices = vertices + beta.T\n",
    "print(vertices)\n",
    "\n",
    "#print(mul)\n",
    "#vertices = vertices+mul\n",
    "#print(vertices)"
   ]
  },
  {
   "cell_type": "code",
   "execution_count": 47,
   "metadata": {},
   "outputs": [
    {
     "output_type": "stream",
     "name": "stdout",
     "text": [
      "[[0. 0. 0. 0. 0. 0. 0. 0. 0. 0. 0. 0. 0. 0. 0. 0. 0. 0. 0. 0.]]\n[[ 1.        0.951057  0.809017  0.587785  0.309017  0.       -0.309017\n  -0.587785 -0.809017 -0.951057 -1.       -0.951057 -0.809017 -0.587785\n  -0.309017 -0.        0.309017  0.587785  0.809017  0.951057]\n [ 0.        0.309017  0.587785  0.809017  0.951057  1.        0.951057\n   0.809017  0.587785  0.309017  0.       -0.309017 -0.587785 -0.809017\n  -0.951057 -1.       -0.951057 -0.809017 -0.587785 -0.309017]]\n[[ 1.        0.951057  0.809017  0.587785  0.309017  0.       -0.309017\n  -0.587785 -0.809017 -0.951057 -1.       -0.951057 -0.809017 -0.587785\n  -0.309017 -0.        0.309017  0.587785  0.809017  0.951057]\n [ 0.        0.309017  0.587785  0.809017  0.951057  1.        0.951057\n   0.809017  0.587785  0.309017  0.       -0.309017 -0.587785 -0.809017\n  -0.951057 -1.       -0.951057 -0.809017 -0.587785 -0.309017]\n [ 0.        0.        0.        0.        0.        0.        0.\n   0.        0.        0.        0.        0.        0.        0.\n   0.        0.        0.        0.        0.        0.      ]]\n"
     ]
    }
   ],
   "source": [
    "np.set_printoptions(suppress=True, precision=6)\n",
    " \n",
    "sides = 20\n",
    "\n",
    "angle = np.radians(360/sides)\n",
    "vertices = np.zeros((2,sides))+np.arange(sides)\n",
    "vertices = vertices*angle\n",
    "vertices[0,:] = np.cos(vertices[0,:])\n",
    "vertices[1,:] = np.sin(vertices[1,:])\n",
    "outra_matriz = np.zeros((1,np.shape(vertices)[1]))\n",
    "alfa = np.concatenate((vertices,outra_matriz),axis=0)\n",
    "print(outra_matriz)\n",
    "print(vertices)\n",
    "print(alfa)\n"
   ]
  }
 ]
}