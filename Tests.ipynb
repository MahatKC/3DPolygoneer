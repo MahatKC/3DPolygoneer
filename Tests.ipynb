{
 "metadata": {
  "language_info": {
   "codemirror_mode": {
    "name": "ipython",
    "version": 3
   },
   "file_extension": ".py",
   "mimetype": "text/x-python",
   "name": "python",
   "nbconvert_exporter": "python",
   "pygments_lexer": "ipython3",
   "version": "3.8.5"
  },
  "orig_nbformat": 4,
  "kernelspec": {
   "name": "python3",
   "display_name": "Python 3.8.5 64-bit ('base': conda)"
  },
  "interpreter": {
   "hash": "80d01b9952232eb7f083fc8f059777ea18c94fbe45e340b293d04682534625d1"
  }
 },
 "nbformat": 4,
 "nbformat_minor": 2,
 "cells": [
  {
   "cell_type": "code",
   "execution_count": 16,
   "metadata": {},
   "outputs": [],
   "source": [
    "import numpy as np \n",
    "import time\n"
   ]
  },
  {
   "cell_type": "code",
   "execution_count": 3,
   "metadata": {},
   "outputs": [
    {
     "output_type": "stream",
     "name": "stdout",
     "text": [
      "[[0. 0. 0. 1.]\n [0. 0. 0. 0.]\n [0. 0. 0. 0.]\n [0. 0. 0. 0.]]\n"
     ]
    }
   ],
   "source": [
    "bla = np.zeros((4,4))\n",
    "bla[0,3] = 1\n",
    "print(bla)"
   ]
  },
  {
   "cell_type": "code",
   "execution_count": 13,
   "metadata": {},
   "outputs": [
    {
     "output_type": "stream",
     "name": "stdout",
     "text": [
      "[[5. 0. 0.]\n [0. 5. 0.]\n [0. 0. 5.]]\n[[11. 10. 10.]\n [10. 11. 10.]\n [10. 10. 11.]]\n[[55.  0.  0.]\n [ 0. 55.  0.]\n [ 0.  0. 55.]]\n[[55. 50. 50.]\n [50. 55. 50.]\n [50. 50. 55.]]\n"
     ]
    }
   ],
   "source": [
    "a = np.eye(3)\n",
    "b = np.eye(3)\n",
    "c = b*5\n",
    "d = a+10\n",
    "print(c)\n",
    "print(d)\n",
    "print(c*d)\n",
    "print(np.dot(c,d))"
   ]
  },
  {
   "cell_type": "code",
   "execution_count": 33,
   "metadata": {},
   "outputs": [
    {
     "output_type": "stream",
     "name": "stdout",
     "text": [
      "Vitorias Um Linha: 2\nSpeedup Medio: 1.003462358649138\nVitorias Um Linha: 98\nSpeedup Medio: 1.167749041050426\n"
     ]
    }
   ],
   "source": [
    "t_umlinhaS = 0\n",
    "t_vlinhaS = 0\n",
    "speedupUm = 0\n",
    "speedupVa = 0\n",
    "for i in range(100):\n",
    "    t0=time.time()\n",
    "    for i in range(1,1000000):\n",
    "        b=i\n",
    "        c=i+1\n",
    "        d=i\n",
    "        e=i+1\n",
    "        f=2*i\n",
    "        g=i\n",
    "\n",
    "        a=((b*c)+(d*e))/(f-g)\n",
    "    t1=time.time()\n",
    "    t_umlinha = t1-t0\n",
    "\n",
    "    t0=time.time()\n",
    "    for i in range(1,1000000):\n",
    "        b=i\n",
    "        c=i+1\n",
    "        d=i\n",
    "        e=i+1\n",
    "        f=2*i\n",
    "        g=i\n",
    "\n",
    "        a=b\n",
    "        a*=c\n",
    "        a+=(d*e)\n",
    "        a/=(f-g)\n",
    "    t1=time.time()\n",
    "    t_vlinha = t1-t0\n",
    "\n",
    "    if t_vlinha<t_umlinha:\n",
    "        t_umlinhaS += 1\n",
    "        speedupUm += t_umlinha/t_vlinha\n",
    "    else:\n",
    "        t_vlinhaS +=1\n",
    "        speedupVa += t_vlinha/t_umlinha\n",
    "    \n",
    "print(f\"Vitorias Um Linha: {t_umlinhaS}\")\n",
    "print(f\"Speedup Medio: {speedupUm/t_umlinhaS}\")\n",
    "print(f\"Vitorias Um Linha: {t_vlinhaS}\")\n",
    "print(f\"Speedup Medio: {speedupVa/t_vlinhaS}\")"
   ]
  },
  {
   "cell_type": "code",
   "execution_count": 34,
   "metadata": {},
   "outputs": [
    {
     "output_type": "stream",
     "name": "stdout",
     "text": [
      "(3,)\n"
     ]
    }
   ],
   "source": [
    "a = np.array([1,2,3])\n",
    "print(np.shape(a))"
   ]
  },
  {
   "cell_type": "code",
   "execution_count": 36,
   "metadata": {},
   "outputs": [
    {
     "output_type": "stream",
     "name": "stdout",
     "text": [
      "(3, 1)\n"
     ]
    }
   ],
   "source": [
    "b=np.reshape(a, (1,np.shape(a)[0])).T\n",
    "print(np.shape(b))"
   ]
  },
  {
   "cell_type": "code",
   "execution_count": 39,
   "metadata": {},
   "outputs": [
    {
     "output_type": "stream",
     "name": "stdout",
     "text": [
      "True\n"
     ]
    }
   ],
   "source": [
    "c = np.array([[1],[2],[3]])\n",
    "print(np.array_equal(b,c))"
   ]
  },
  {
   "cell_type": "code",
   "execution_count": 14,
   "metadata": {},
   "outputs": [
    {
     "output_type": "stream",
     "name": "stdout",
     "text": [
      "[[0. 0. 0. 0. 0.]\n [0. 0. 0. 0. 0.]\n [0. 0. 0. 0. 0.]]\n"
     ]
    }
   ],
   "source": [
    "print(np.zeros((3,5)))"
   ]
  },
  {
   "cell_type": "code",
   "execution_count": 31,
   "metadata": {},
   "outputs": [
    {
     "output_type": "stream",
     "name": "stdout",
     "text": [
      "[[  0.  10.  20.  30.  40.  50.  60.  70.  80.  90. 100. 110.]\n [  0.  10.  20.  30.  40.  50.  60.  70.  80.  90. 100. 110.]\n [  0.  10.  20.  30.  40.  50.  60.  70.  80.  90. 100. 110.]]\n(3,)\n3\n[[1 2 3]]\n[[  1.  11.  21.  31.  41.  51.  61.  71.  81.  91. 101. 111.]\n [  2.  12.  22.  32.  42.  52.  62.  72.  82.  92. 102. 112.]\n [  3.  13.  23.  33.  43.  53.  63.  73.  83.  93. 103. 113.]]\n"
     ]
    }
   ],
   "source": [
    "sides = 12\n",
    "vertices = np.zeros((3,sides))+np.arange(sides)\n",
    "vertices = vertices*10\n",
    "\n",
    "alfa = np.array([1,2,3])\n",
    "#mul = np.arange(sides)\n",
    "print(vertices)\n",
    "\n",
    "print(np.shape(alfa))\n",
    "print(np.shape(alfa)[0])\n",
    "beta= np.reshape(alfa, (1,np.shape(alfa)[0]))\n",
    "print(beta)\n",
    "\n",
    "vertices = vertices + beta.T\n",
    "print(vertices)\n",
    "\n",
    "#print(mul)\n",
    "#vertices = vertices+mul\n",
    "#print(vertices)"
   ]
  },
  {
   "cell_type": "code",
   "execution_count": 47,
   "metadata": {},
   "outputs": [
    {
     "output_type": "stream",
     "name": "stdout",
     "text": [
      "[[0. 0. 0. 0. 0. 0. 0. 0. 0. 0. 0. 0. 0. 0. 0. 0. 0. 0. 0. 0.]]\n[[ 1.        0.951057  0.809017  0.587785  0.309017  0.       -0.309017\n  -0.587785 -0.809017 -0.951057 -1.       -0.951057 -0.809017 -0.587785\n  -0.309017 -0.        0.309017  0.587785  0.809017  0.951057]\n [ 0.        0.309017  0.587785  0.809017  0.951057  1.        0.951057\n   0.809017  0.587785  0.309017  0.       -0.309017 -0.587785 -0.809017\n  -0.951057 -1.       -0.951057 -0.809017 -0.587785 -0.309017]]\n[[ 1.        0.951057  0.809017  0.587785  0.309017  0.       -0.309017\n  -0.587785 -0.809017 -0.951057 -1.       -0.951057 -0.809017 -0.587785\n  -0.309017 -0.        0.309017  0.587785  0.809017  0.951057]\n [ 0.        0.309017  0.587785  0.809017  0.951057  1.        0.951057\n   0.809017  0.587785  0.309017  0.       -0.309017 -0.587785 -0.809017\n  -0.951057 -1.       -0.951057 -0.809017 -0.587785 -0.309017]\n [ 0.        0.        0.        0.        0.        0.        0.\n   0.        0.        0.        0.        0.        0.        0.\n   0.        0.        0.        0.        0.        0.      ]]\n"
     ]
    }
   ],
   "source": [
    "np.set_printoptions(suppress=True, precision=6)\n",
    " \n",
    "sides = 20\n",
    "\n",
    "angle = np.radians(360/sides)\n",
    "vertices = np.zeros((2,sides))+np.arange(sides)\n",
    "vertices = vertices*angle\n",
    "vertices[0,:] = np.cos(vertices[0,:])\n",
    "vertices[1,:] = np.sin(vertices[1,:])\n",
    "outra_matriz = np.zeros((1,np.shape(vertices)[1]))\n",
    "alfa = np.concatenate((vertices,outra_matriz),axis=0)\n",
    "print(outra_matriz)\n",
    "print(vertices)\n",
    "print(alfa)\n"
   ]
  }
 ]
}