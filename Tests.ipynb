{
 "metadata": {
  "language_info": {
   "codemirror_mode": {
    "name": "ipython",
    "version": 3
   },
   "file_extension": ".py",
   "mimetype": "text/x-python",
   "name": "python",
   "nbconvert_exporter": "python",
   "pygments_lexer": "ipython3",
   "version": "3.8.10"
  },
  "orig_nbformat": 4,
  "kernelspec": {
   "name": "python3",
   "display_name": "Python 3.8.10 64-bit ('base': conda)"
  },
  "interpreter": {
   "hash": "8a3417559b1bd2a98b9b328d0a9f259d32063a53448a41d7a8044ccbfc5ffb8d"
  }
 },
 "nbformat": 4,
 "nbformat_minor": 2,
 "cells": [
  {
   "cell_type": "code",
   "execution_count": 2,
   "source": [
    "import numpy as np \r\n",
    "import time\r\n"
   ],
   "outputs": [],
   "metadata": {}
  },
  {
   "cell_type": "code",
   "execution_count": 6,
   "source": [
    "It_int = 0\r\n",
    "face_color = \"#\"\r\n",
    "if It_int<16:\r\n",
    "    face_color = face_color+\"0\"+hex(It_int)[2:]\r\n",
    "else:\r\n",
    "    face_color += hex(It_int)[2:]\r\n",
    "print(face_color)"
   ],
   "outputs": [
    {
     "output_type": "stream",
     "name": "stdout",
     "text": [
      "#00\n"
     ]
    }
   ],
   "metadata": {}
  },
  {
   "cell_type": "code",
   "execution_count": 25,
   "source": [
    "b_val=3\r\n",
    "a = hex(236).lstrip(\"0x\")\r\n",
    "b = hex(b_val).lstrip(\"0x\")\r\n",
    "if b_val<16:\r\n",
    "    b= \"0\"+b\r\n",
    "cor = (a+b).upper()\r\n",
    "print(cor)"
   ],
   "outputs": [
    {
     "output_type": "stream",
     "name": "stdout",
     "text": [
      "EC03\n"
     ]
    }
   ],
   "metadata": {}
  },
  {
   "cell_type": "code",
   "execution_count": 5,
   "source": [
    "print(np.average(teste_matriz, axis=1))"
   ],
   "outputs": [
    {
     "output_type": "stream",
     "name": "stdout",
     "text": [
      "[ 2.          5.         10.66666667  1.        ]\n"
     ]
    }
   ],
   "metadata": {}
  },
  {
   "cell_type": "code",
   "execution_count": 15,
   "source": [
    "x = 136.876\r\n",
    "n = 2.123\r\n",
    "\r\n",
    "t0=time.time()\r\n",
    "y = x**n\r\n",
    "t1=time.time()\r\n",
    "print(f\"** {t1-t0}\")\r\n",
    "\r\n",
    "t0=time.time()\r\n",
    "y = np.power(x,n)\r\n",
    "t1=time.time()\r\n",
    "print(f\"** {t1-t0}\")"
   ],
   "outputs": [
    {
     "output_type": "stream",
     "name": "stdout",
     "text": [
      "** 0.00012636184692382812\n",
      "** 0.0001571178436279297\n"
     ]
    }
   ],
   "metadata": {}
  },
  {
   "cell_type": "code",
   "execution_count": 2,
   "source": [
    "teste_matriz = np.array([[ 1,  2,  3],\r\n",
    "                         [ 4,  5,  6],\r\n",
    "                         [13, 20, -1],\r\n",
    "                         [ 1,  1,  1]])\r\n",
    "\r\n",
    "x_min = 1.5\r\n",
    "x_max = 2.5\r\n",
    "y_min = 4.5\r\n",
    "y_max = 7"
   ],
   "outputs": [],
   "metadata": {}
  },
  {
   "cell_type": "code",
   "execution_count": 4,
   "source": [
    "teste_matriz[0][0]"
   ],
   "outputs": [
    {
     "output_type": "execute_result",
     "data": {
      "text/plain": [
       "1"
      ]
     },
     "metadata": {},
     "execution_count": 4
    }
   ],
   "metadata": {}
  },
  {
   "cell_type": "code",
   "execution_count": 1,
   "source": [
    "print(True==1)"
   ],
   "outputs": [
    {
     "output_type": "stream",
     "name": "stdout",
     "text": [
      "False\n"
     ]
    }
   ],
   "metadata": {}
  },
  {
   "cell_type": "code",
   "execution_count": 14,
   "source": [
    "x1=10\r\n",
    "y1=10\r\n",
    "x2=52\r\n",
    "y2=50\r\n",
    "x_border = 20\r\n",
    "y_border = 20\r\n",
    "if x2!=x1:\r\n",
    "    y = ((x_border-x1)*(y2-y1)/(x2-x1))+y1\r\n",
    "else:\r\n",
    "    y=\"no\"\r\n",
    "if y2!=y1:\r\n",
    "    x = ((y_border-y1)*(x2-x1)/(y2-y1))+x1\r\n",
    "else:\r\n",
    "    x = \"no\"\r\n",
    "print(x,y)"
   ],
   "outputs": [
    {
     "output_type": "stream",
     "name": "stdout",
     "text": [
      "20.5 19.523809523809526\n"
     ]
    }
   ],
   "metadata": {}
  },
  {
   "cell_type": "code",
   "execution_count": 10,
   "source": [
    "v0 = teste_matriz[0,:]<x_min\r\n",
    "v1 = teste_matriz[0,:]>x_max\r\n",
    "v2 = teste_matriz[1,:]>y_max\r\n",
    "v3 = teste_matriz[1,:]<y_min\r\n",
    "T = np.stack((v0,v1,v2,v3),axis=0)\r\n",
    "print(T[:,0])\r\n",
    "print(T)\r\n",
    "#print(v0)\r\n",
    "#print(v1)\r\n",
    "#print(v2)\r\n",
    "#print(v3)\r\n"
   ],
   "outputs": [
    {
     "output_type": "stream",
     "name": "stdout",
     "text": [
      "[ True False False  True]\n",
      "[[ True False False]\n",
      " [False False  True]\n",
      " [False False False]\n",
      " [ True False False]]\n"
     ]
    }
   ],
   "metadata": {}
  },
  {
   "cell_type": "code",
   "execution_count": 32,
   "source": [
    "pkch = np.array([[30, 35, 25, 20,   30],\r\n",
    "                 [ 2,  4,  3,  1,   10],\r\n",
    "                 [25, 20, 18, 23, 22.5],\r\n",
    "                 [ 1,  1,  1,  1,    1]])"
   ],
   "outputs": [],
   "metadata": {}
  },
  {
   "cell_type": "code",
   "execution_count": null,
   "source": [
    "x = (0,1,2,3,4,5,6,7,8,9,10,11,12,13,14,15)"
   ],
   "outputs": [],
   "metadata": {}
  },
  {
   "cell_type": "code",
   "execution_count": 2,
   "source": [
    "x=[False]*10\r\n",
    "print(x)"
   ],
   "outputs": [
    {
     "output_type": "stream",
     "name": "stdout",
     "text": [
      "[False, False, False, False, False, False, False, False, False, False]\n"
     ]
    }
   ],
   "metadata": {}
  },
  {
   "cell_type": "code",
   "execution_count": 4,
   "source": [
    "np.arange(5)[::-1]"
   ],
   "outputs": [
    {
     "output_type": "error",
     "ename": "NameError",
     "evalue": "name 'np' is not defined",
     "traceback": [
      "\u001b[0;31m---------------------------------------------------------------------------\u001b[0m",
      "\u001b[0;31mNameError\u001b[0m                                 Traceback (most recent call last)",
      "\u001b[0;32m<ipython-input-4-91d45dac5c93>\u001b[0m in \u001b[0;36m<module>\u001b[0;34m\u001b[0m\n\u001b[0;32m----> 1\u001b[0;31m \u001b[0mnp\u001b[0m\u001b[0;34m.\u001b[0m\u001b[0marange\u001b[0m\u001b[0;34m(\u001b[0m\u001b[0;36m5\u001b[0m\u001b[0;34m)\u001b[0m\u001b[0;34m[\u001b[0m\u001b[0;34m:\u001b[0m\u001b[0;34m:\u001b[0m\u001b[0;34m-\u001b[0m\u001b[0;36m1\u001b[0m\u001b[0;34m]\u001b[0m\u001b[0;34m\u001b[0m\u001b[0;34m\u001b[0m\u001b[0m\n\u001b[0m",
      "\u001b[0;31mNameError\u001b[0m: name 'np' is not defined"
     ]
    }
   ],
   "metadata": {}
  },
  {
   "cell_type": "code",
   "execution_count": null,
   "source": [
    "VRPx=3\r\n",
    "VRPy=2\r\n",
    "VRPz=1\r\n",
    "Px=2\r\n",
    "Py=1\r\n",
    "Pz=0\r\n",
    "\r\n",
    "\r\n",
    "VRP = np.array([VRPx, VRPy, VRPz])\r\n",
    "N = VRP-np.array([Px, Py, Pz])\r\n",
    "n = N/(np.linalg.norm(N))\r\n"
   ],
   "outputs": [],
   "metadata": {}
  },
  {
   "cell_type": "code",
   "execution_count": 65,
   "source": [
    "VRPx=3\r\n",
    "VRPy=2\r\n",
    "VRPz=1\r\n",
    "Px=2\r\n",
    "Py=1\r\n",
    "Pz=0\r\n",
    "\r\n",
    "VRP = np.array([VRPx, VRPy, VRPz])\r\n",
    "N = VRP-np.array([Px, Py, Pz])\r\n",
    "n = N/(np.linalg.norm(N))\r\n",
    "\r\n",
    "Yx=0\r\n",
    "Yy=1\r\n",
    "Yz=0\r\n",
    "Y = np.array([Yx, Yy, Yz])\r\n",
    "V = Y-np.dot(np.dot(Y,n),n)\r\n",
    "v = V/(np.linalg.norm(V))\r\n",
    "u = np.cross(v,n)\r\n",
    "SRC = np.zeros((4,4))\r\n",
    "SRC[0,:3] = u\r\n",
    "SRC[1,:3] = v\r\n",
    "SRC[2,:3] = n\r\n",
    "SRC[0,3] = -np.dot(VRP,u)\r\n",
    "SRC[1,3] = -np.dot(VRP,v)\r\n",
    "SRC[2,3] = -np.dot(VRP,n)\r\n",
    "SRC[3,3] = 1\r\n",
    "\r\n",
    "M_in_SRC = np.dot(SRC, pkch)\r\n",
    "print(M_in_SRC[2,:])"
   ],
   "outputs": [
    {
     "output_type": "stream",
     "name": "stdout",
     "text": [
      "[29.44486373 30.59956427 23.09401077 21.93931023 32.62029021]\n"
     ]
    }
   ],
   "metadata": {}
  },
  {
   "cell_type": "code",
   "execution_count": 93,
   "source": [
    "x=M_in_SRC[2,:]*(-1)\n",
    "y=M_in_SRC[2,:]*3\n",
    "t0=time.time()\n",
    "z=x*y\n",
    "t1=time.time()\n",
    "print(t1-t0)\n",
    "print(z)\n",
    "\n",
    "t0=time.time()\n",
    "z=np.dot(x,y)\n",
    "t1=time.time()\n",
    "print(t1-t0)\n",
    "print(z)"
   ],
   "outputs": [
    {
     "output_type": "stream",
     "name": "stdout",
     "text": [
      "7.796287536621094e-05\n",
      "[-2601.   -2809.   -1600.   -1444.   -3192.25]\n",
      "0.00010585784912109375\n",
      "-11646.250000000004\n"
     ]
    }
   ],
   "metadata": {}
  },
  {
   "cell_type": "code",
   "execution_count": 66,
   "source": [
    "\n",
    "print()"
   ],
   "outputs": [
    {
     "output_type": "stream",
     "name": "stdout",
     "text": [
      "[29.44486373 30.59956427 23.09401077 21.93931023 32.62029021]\n"
     ]
    }
   ],
   "metadata": {}
  },
  {
   "cell_type": "code",
   "execution_count": 63,
   "source": [
    "t0=time.time()\n",
    "avg = np.average(pkch, axis=1)\n",
    "z = avg[2]\n",
    "y=z<10 or z>30\n",
    "t1=time.time()\n",
    "print(t1-t0)\n",
    "print(y)\n",
    "\n",
    "t0=time.time()\n",
    "x=np.any(np.logical_or(np.less(pkch[2,:],10),np.greater(pkch[2,:],30)))\n",
    "t1=time.time()\n",
    "print(t1-t0)\n",
    "print(x)"
   ],
   "outputs": [
    {
     "output_type": "stream",
     "name": "stdout",
     "text": [
      "0.000354766845703125\n",
      "False\n",
      "0.00015783309936523438\n",
      "False\n"
     ]
    }
   ],
   "metadata": {}
  },
  {
   "cell_type": "code",
   "execution_count": 4,
   "source": [
    "def soma(x,y):\n",
    "    return x+y\n",
    "def sub(x,y):\n",
    "    return x-y\n",
    "def mult(x,y):\n",
    "    return x*y\n",
    "\n",
    "def funcaozona(p,q,r,s,t,u):\n",
    "    a=soma(p,q)\n",
    "    b=sub(s,r)\n",
    "    c=mult(a,b)\n",
    "    d=soma(c,t)\n",
    "    e=sub(u,d)\n",
    "    return e\n",
    "\n",
    "t0=time.time()\n",
    "f=funcaozona(1,2,3,4,5,6)\n",
    "t1=time.time()\n",
    "print(t1-t0)\n",
    "\n",
    "def funcaozona2(p,q,r,s,t,u):\n",
    "    a=p+q\n",
    "    b=s-r\n",
    "    c=a*b\n",
    "    d=c+t\n",
    "    e=u-d\n",
    "    return e\n",
    "\n",
    "t0=time.time()\n",
    "f=funcaozona2(1,2,3,4,5,6)\n",
    "t1=time.time()\n",
    "print(t1-t0)"
   ],
   "outputs": [
    {
     "output_type": "stream",
     "name": "stdout",
     "text": [
      "0.0004296302795410156\n",
      "0.0001888275146484375\n"
     ]
    }
   ],
   "metadata": {}
  },
  {
   "cell_type": "code",
   "execution_count": 15,
   "source": [
    "x=np.zeros((4,6))+np.arange(6)\n",
    "x[3,0]=1\n",
    "x[0,:]*=10\n",
    "x[1,:]*=-10\n",
    "x[2,:]*=0.1\n",
    "print(x)\n",
    "x/=x[3,:]\n",
    "print(x)"
   ],
   "outputs": [
    {
     "output_type": "stream",
     "name": "stdout",
     "text": [
      "[[  0.   10.   20.   30.   40.   50. ]\n",
      " [ -0.  -10.  -20.  -30.  -40.  -50. ]\n",
      " [  0.    0.1   0.2   0.3   0.4   0.5]\n",
      " [  1.    1.    2.    3.    4.    5. ]]\n",
      "[[  0.   10.   10.   10.   10.   10. ]\n",
      " [ -0.  -10.  -10.  -10.  -10.  -10. ]\n",
      " [  0.    0.1   0.1   0.1   0.1   0.1]\n",
      " [  1.    1.    1.    1.    1.    1. ]]\n"
     ]
    }
   ],
   "metadata": {}
  },
  {
   "cell_type": "code",
   "execution_count": 64,
   "source": [
    "VRPx=3\n",
    "VRPy=2\n",
    "VRPz=1\n",
    "Px=2\n",
    "Py=1\n",
    "Pz=0\n",
    "Yx=0\n",
    "Yy=1\n",
    "Yz=0"
   ],
   "outputs": [],
   "metadata": {}
  },
  {
   "cell_type": "code",
   "execution_count": 5,
   "source": [
    "VRP = np.array([VRPx, VRPy, VRPz])\n",
    "Y = np.array([Yx, Yy, Yz])\n",
    "N = VRP-np.array([Px, Py, Pz])\n",
    "n = N/(np.linalg.norm(N))\n",
    "V = Y-np.dot(np.dot(Y,n),n)\n",
    "v = V/(np.linalg.norm(V))\n",
    "u = np.cross(v,n)"
   ],
   "outputs": [],
   "metadata": {}
  },
  {
   "cell_type": "code",
   "execution_count": 27,
   "source": [
    "t0=time.time()\n",
    "Xmin = 1\n",
    "Xmax = 3\n",
    "Ymin = 2\n",
    "Ymax = 4\n",
    "Umax = 5\n",
    "Umin = 3\n",
    "Vmax = 6\n",
    "Vmin = 1\n",
    "u_by_x = (Umax-Umin)/(Xmax-Xmin)\n",
    "v_by_y = (Vmax-Vmin)/(Ymax-Ymin)\n",
    "jp = np.eye(4)\n",
    "jp[0,0] = u_by_x\n",
    "jp[1,1] = -v_by_y\n",
    "jp[0,3] = -(Xmin*u_by_x)+Umin\n",
    "jp[1,3] = (Ymin*v_by_y)+Vmax\n",
    "t1=time.time()\n",
    "print(t1-t0)\n",
    "\n",
    "t0=time.time()\n",
    "Xmin = 1\n",
    "Xmax = 3\n",
    "Ymin = 2\n",
    "Ymax = 4\n",
    "Umax = 5\n",
    "Umin = 3\n",
    "Vmax = 6\n",
    "Vmin = 1\n",
    "u_by_x = (Umax-Umin)/(Xmax-Xmin)\n",
    "v_by_y = (Vmax-Vmin)/(Ymax-Ymin)\n",
    "jp = np.zeros((4,4))\n",
    "jp[0,0] = u_by_x\n",
    "jp[1,1] = -v_by_y\n",
    "jp[0,3] = -(Xmin*u_by_x)+Umin\n",
    "jp[1,3] = (Ymin*v_by_y)+Vmax\n",
    "jp[2,2] = 1\n",
    "jp[3,3] = 1\n",
    "t1=time.time()\n",
    "print(t1-t0)"
   ],
   "outputs": [
    {
     "output_type": "stream",
     "name": "stdout",
     "text": [
      "0.0011370182037353516\n",
      "0.0013010501861572266\n"
     ]
    }
   ],
   "metadata": {}
  },
  {
   "cell_type": "code",
   "execution_count": 200,
   "source": [
    "t0=time.time()\n",
    "T = np.eye(4)\n",
    "T[:3,3] = -VRP\n",
    "R = np.eye(4)\n",
    "R[0,:3] = np.cross(v,n)\n",
    "R[1,:3] = v\n",
    "R[2,:3] = n\n",
    "F=np.dot(R,T)\n",
    "t1=time.time()\n",
    "print(t1-t0)"
   ],
   "outputs": [
    {
     "output_type": "stream",
     "name": "stdout",
     "text": [
      "0.0023093223571777344\n"
     ]
    }
   ],
   "metadata": {}
  },
  {
   "cell_type": "code",
   "execution_count": 201,
   "source": [
    "t0=time.time()\n",
    "R = np.eye(4)\n",
    "R[0,:3] = np.cross(v,n)\n",
    "R[1,:3] = v\n",
    "R[2,:3] = n\n",
    "R[0,3] = -np.dot(VRP,u)\n",
    "R[1,3] = -np.dot(VRP,v)\n",
    "R[2,3] = -np.dot(VRP,n)\n",
    "t1=time.time()\n",
    "print(t1-t0)"
   ],
   "outputs": [
    {
     "output_type": "stream",
     "name": "stdout",
     "text": [
      "0.0018029212951660156\n"
     ]
    }
   ],
   "metadata": {}
  },
  {
   "cell_type": "code",
   "execution_count": 53,
   "source": [
    "VRP = np.array([VRPx, VRPy, VRPz])\n",
    "Y = np.array([Yx, Yy, Yz])\n",
    "N = VRP-np.array([Px, Py, Pz])\n",
    "n = N/(np.linalg.norm(N))\n",
    "V = Y-np.dot(np.dot(Y,n),n)\n",
    "v = V/(np.linalg.norm(V))\n",
    "u = np.cross(v,n)\n",
    "T = np.eye(4)\n",
    "T[:3,3] = -VRP\n",
    "R = np.concatenate((np.concatenate((np.stack((u,v,n), axis=0),np.zeros((1,3)))),np.zeros((4,1))),axis=1)\n",
    "R[3,3]=1\n"
   ],
   "outputs": [],
   "metadata": {}
  },
  {
   "cell_type": "code",
   "execution_count": 202,
   "source": [
    "-1%3"
   ],
   "outputs": [
    {
     "output_type": "execute_result",
     "data": {
      "text/plain": [
       "2"
      ]
     },
     "metadata": {},
     "execution_count": 202
    }
   ],
   "metadata": {}
  },
  {
   "cell_type": "code",
   "execution_count": 173,
   "source": [
    "t0=time.time()\n",
    "R = np.concatenate((np.concatenate((np.stack((u,v,n), axis=0),np.zeros((1,3)))),np.zeros((4,1))),axis=1)\n",
    "R[3,3]=1\n",
    "t1=time.time()\n",
    "print(t1-t0)"
   ],
   "outputs": [
    {
     "output_type": "stream",
     "name": "stdout",
     "text": [
      "0.0011684894561767578\n"
     ]
    }
   ],
   "metadata": {}
  },
  {
   "cell_type": "code",
   "execution_count": 179,
   "source": [
    "t0=time.time()\n",
    "R=np.eye(4)\n",
    "R[0,:3]=u\n",
    "R[1,:3]=v\n",
    "R[2,:3]=n\n",
    "t1=time.time()\n",
    "print(t1-t0)"
   ],
   "outputs": [
    {
     "output_type": "stream",
     "name": "stdout",
     "text": [
      "0.0003917217254638672\n"
     ]
    }
   ],
   "metadata": {}
  },
  {
   "cell_type": "code",
   "execution_count": null,
   "source": [],
   "outputs": [],
   "metadata": {}
  },
  {
   "cell_type": "code",
   "execution_count": 50,
   "source": [
    "print(T)\n",
    "print(R)"
   ],
   "outputs": [
    {
     "output_type": "stream",
     "name": "stdout",
     "text": [
      "[[ 1.  0.  0. -3.]\n",
      " [ 0.  1.  0. -2.]\n",
      " [ 0.  0.  1. -1.]\n",
      " [ 0.  0.  0.  1.]]\n",
      "[[ 0.70710678  0.         -0.70710678  0.        ]\n",
      " [-0.40824829  0.81649658 -0.40824829  0.        ]\n",
      " [ 0.57735027  0.57735027  0.57735027  0.        ]\n",
      " [ 0.          0.          0.          1.        ]]\n"
     ]
    }
   ],
   "metadata": {}
  },
  {
   "cell_type": "code",
   "execution_count": 3,
   "source": [
    "bla = np.zeros((4,4))\n",
    "bla[0,3] = 1\n",
    "print(bla)"
   ],
   "outputs": [
    {
     "output_type": "stream",
     "name": "stdout",
     "text": [
      "[[0. 0. 0. 1.]\n",
      " [0. 0. 0. 0.]\n",
      " [0. 0. 0. 0.]\n",
      " [0. 0. 0. 0.]]\n"
     ]
    }
   ],
   "metadata": {}
  },
  {
   "cell_type": "code",
   "execution_count": 13,
   "source": [
    "a = np.eye(3)\n",
    "b = np.eye(3)\n",
    "c = b*5\n",
    "d = a+10\n",
    "print(c)\n",
    "print(d)\n",
    "print(c*d)\n",
    "print(np.dot(c,d))"
   ],
   "outputs": [
    {
     "output_type": "stream",
     "name": "stdout",
     "text": [
      "[[5. 0. 0.]\n",
      " [0. 5. 0.]\n",
      " [0. 0. 5.]]\n",
      "[[11. 10. 10.]\n",
      " [10. 11. 10.]\n",
      " [10. 10. 11.]]\n",
      "[[55.  0.  0.]\n",
      " [ 0. 55.  0.]\n",
      " [ 0.  0. 55.]]\n",
      "[[55. 50. 50.]\n",
      " [50. 55. 50.]\n",
      " [50. 50. 55.]]\n"
     ]
    }
   ],
   "metadata": {}
  },
  {
   "cell_type": "code",
   "execution_count": 33,
   "source": [
    "t_umlinhaS = 0\n",
    "t_vlinhaS = 0\n",
    "speedupUm = 0\n",
    "speedupVa = 0\n",
    "for i in range(100):\n",
    "    t0=time.time()\n",
    "    for i in range(1,1000000):\n",
    "        b=i\n",
    "        c=i+1\n",
    "        d=i\n",
    "        e=i+1\n",
    "        f=2*i\n",
    "        g=i\n",
    "\n",
    "        a=((b*c)+(d*e))/(f-g)\n",
    "    t1=time.time()\n",
    "    t_umlinha = t1-t0\n",
    "\n",
    "    t0=time.time()\n",
    "    for i in range(1,1000000):\n",
    "        b=i\n",
    "        c=i+1\n",
    "        d=i\n",
    "        e=i+1\n",
    "        f=2*i\n",
    "        g=i\n",
    "\n",
    "        a=b\n",
    "        a*=c\n",
    "        a+=(d*e)\n",
    "        a/=(f-g)\n",
    "    t1=time.time()\n",
    "    t_vlinha = t1-t0\n",
    "\n",
    "    if t_vlinha<t_umlinha:\n",
    "        t_umlinhaS += 1\n",
    "        speedupUm += t_umlinha/t_vlinha\n",
    "    else:\n",
    "        t_vlinhaS +=1\n",
    "        speedupVa += t_vlinha/t_umlinha\n",
    "    \n",
    "print(f\"Vitorias Um Linha: {t_umlinhaS}\")\n",
    "print(f\"Speedup Medio: {speedupUm/t_umlinhaS}\")\n",
    "print(f\"Vitorias Um Linha: {t_vlinhaS}\")\n",
    "print(f\"Speedup Medio: {speedupVa/t_vlinhaS}\")"
   ],
   "outputs": [
    {
     "output_type": "stream",
     "name": "stdout",
     "text": [
      "Vitorias Um Linha: 2\n",
      "Speedup Medio: 1.003462358649138\n",
      "Vitorias Um Linha: 98\n",
      "Speedup Medio: 1.167749041050426\n"
     ]
    }
   ],
   "metadata": {}
  },
  {
   "cell_type": "code",
   "execution_count": 34,
   "source": [
    "a = np.array([1,2,3])\n",
    "print(np.shape(a))"
   ],
   "outputs": [
    {
     "output_type": "stream",
     "name": "stdout",
     "text": [
      "(3,)\n"
     ]
    }
   ],
   "metadata": {}
  },
  {
   "cell_type": "code",
   "execution_count": 36,
   "source": [
    "b=np.reshape(a, (1,np.shape(a)[0])).T\n",
    "print(np.shape(b))"
   ],
   "outputs": [
    {
     "output_type": "stream",
     "name": "stdout",
     "text": [
      "(3, 1)\n"
     ]
    }
   ],
   "metadata": {}
  },
  {
   "cell_type": "code",
   "execution_count": 39,
   "source": [
    "c = np.array([[1],[2],[3]])\n",
    "print(np.array_equal(b,c))"
   ],
   "outputs": [
    {
     "output_type": "stream",
     "name": "stdout",
     "text": [
      "True\n"
     ]
    }
   ],
   "metadata": {}
  },
  {
   "cell_type": "code",
   "execution_count": 14,
   "source": [
    "print(np.zeros((3,5)))"
   ],
   "outputs": [
    {
     "output_type": "stream",
     "name": "stdout",
     "text": [
      "[[0. 0. 0. 0. 0.]\n",
      " [0. 0. 0. 0. 0.]\n",
      " [0. 0. 0. 0. 0.]]\n"
     ]
    }
   ],
   "metadata": {}
  },
  {
   "cell_type": "code",
   "execution_count": 31,
   "source": [
    "sides = 12\n",
    "vertices = np.zeros((3,sides))+np.arange(sides)\n",
    "vertices = vertices*10\n",
    "\n",
    "alfa = np.array([1,2,3])\n",
    "#mul = np.arange(sides)\n",
    "print(vertices)\n",
    "\n",
    "print(np.shape(alfa))\n",
    "print(np.shape(alfa)[0])\n",
    "beta= np.reshape(alfa, (1,np.shape(alfa)[0]))\n",
    "print(beta)\n",
    "\n",
    "vertices = vertices + beta.T\n",
    "print(vertices)\n",
    "\n",
    "#print(mul)\n",
    "#vertices = vertices+mul\n",
    "#print(vertices)"
   ],
   "outputs": [
    {
     "output_type": "stream",
     "name": "stdout",
     "text": [
      "[[  0.  10.  20.  30.  40.  50.  60.  70.  80.  90. 100. 110.]\n",
      " [  0.  10.  20.  30.  40.  50.  60.  70.  80.  90. 100. 110.]\n",
      " [  0.  10.  20.  30.  40.  50.  60.  70.  80.  90. 100. 110.]]\n",
      "(3,)\n",
      "3\n",
      "[[1 2 3]]\n",
      "[[  1.  11.  21.  31.  41.  51.  61.  71.  81.  91. 101. 111.]\n",
      " [  2.  12.  22.  32.  42.  52.  62.  72.  82.  92. 102. 112.]\n",
      " [  3.  13.  23.  33.  43.  53.  63.  73.  83.  93. 103. 113.]]\n"
     ]
    }
   ],
   "metadata": {}
  },
  {
   "cell_type": "code",
   "execution_count": 47,
   "source": [
    "np.set_printoptions(suppress=True, precision=6)\n",
    " \n",
    "sides = 20\n",
    "\n",
    "angle = np.radians(360/sides)\n",
    "vertices = np.zeros((2,sides))+np.arange(sides)\n",
    "vertices = vertices*angle\n",
    "vertices[0,:] = np.cos(vertices[0,:])\n",
    "vertices[1,:] = np.sin(vertices[1,:])\n",
    "outra_matriz = np.zeros((1,np.shape(vertices)[1]))\n",
    "alfa = np.concatenate((vertices,outra_matriz),axis=0)\n",
    "print(outra_matriz)\n",
    "print(vertices)\n",
    "print(alfa)\n"
   ],
   "outputs": [
    {
     "output_type": "stream",
     "name": "stdout",
     "text": [
      "[[0. 0. 0. 0. 0. 0. 0. 0. 0. 0. 0. 0. 0. 0. 0. 0. 0. 0. 0. 0.]]\n",
      "[[ 1.        0.951057  0.809017  0.587785  0.309017  0.       -0.309017\n",
      "  -0.587785 -0.809017 -0.951057 -1.       -0.951057 -0.809017 -0.587785\n",
      "  -0.309017 -0.        0.309017  0.587785  0.809017  0.951057]\n",
      " [ 0.        0.309017  0.587785  0.809017  0.951057  1.        0.951057\n",
      "   0.809017  0.587785  0.309017  0.       -0.309017 -0.587785 -0.809017\n",
      "  -0.951057 -1.       -0.951057 -0.809017 -0.587785 -0.309017]]\n",
      "[[ 1.        0.951057  0.809017  0.587785  0.309017  0.       -0.309017\n",
      "  -0.587785 -0.809017 -0.951057 -1.       -0.951057 -0.809017 -0.587785\n",
      "  -0.309017 -0.        0.309017  0.587785  0.809017  0.951057]\n",
      " [ 0.        0.309017  0.587785  0.809017  0.951057  1.        0.951057\n",
      "   0.809017  0.587785  0.309017  0.       -0.309017 -0.587785 -0.809017\n",
      "  -0.951057 -1.       -0.951057 -0.809017 -0.587785 -0.309017]\n",
      " [ 0.        0.        0.        0.        0.        0.        0.\n",
      "   0.        0.        0.        0.        0.        0.        0.\n",
      "   0.        0.        0.        0.        0.        0.      ]]\n"
     ]
    }
   ],
   "metadata": {}
  }
 ]
}