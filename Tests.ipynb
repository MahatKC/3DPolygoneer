{
 "metadata": {
  "language_info": {
   "codemirror_mode": {
    "name": "ipython",
    "version": 3
   },
   "file_extension": ".py",
   "mimetype": "text/x-python",
   "name": "python",
   "nbconvert_exporter": "python",
   "pygments_lexer": "ipython3",
   "version": "3.8.5"
  },
  "orig_nbformat": 4,
  "kernelspec": {
   "name": "python3",
   "display_name": "Python 3.8.5 64-bit ('base': conda)"
  },
  "interpreter": {
   "hash": "80d01b9952232eb7f083fc8f059777ea18c94fbe45e340b293d04682534625d1"
  }
 },
 "nbformat": 4,
 "nbformat_minor": 2,
 "cells": [
  {
   "cell_type": "code",
   "execution_count": 5,
   "metadata": {},
   "outputs": [
    {
     "output_type": "execute_result",
     "data": {
      "text/plain": [
       "0.49999999999999994"
      ]
     },
     "metadata": {},
     "execution_count": 5
    }
   ],
   "source": [
    "import numpy as np \n",
    "\n"
   ]
  },
  {
   "cell_type": "code",
   "execution_count": 14,
   "metadata": {},
   "outputs": [
    {
     "output_type": "stream",
     "name": "stdout",
     "text": [
      "[[0. 0. 0. 0. 0.]\n [0. 0. 0. 0. 0.]\n [0. 0. 0. 0. 0.]]\n"
     ]
    }
   ],
   "source": [
    "print(np.zeros((3,5)))"
   ]
  },
  {
   "cell_type": "code",
   "execution_count": 31,
   "metadata": {},
   "outputs": [
    {
     "output_type": "stream",
     "name": "stdout",
     "text": [
      "[[  0.  10.  20.  30.  40.  50.  60.  70.  80.  90. 100. 110.]\n [  0.  10.  20.  30.  40.  50.  60.  70.  80.  90. 100. 110.]\n [  0.  10.  20.  30.  40.  50.  60.  70.  80.  90. 100. 110.]]\n(3,)\n3\n[[1 2 3]]\n[[  1.  11.  21.  31.  41.  51.  61.  71.  81.  91. 101. 111.]\n [  2.  12.  22.  32.  42.  52.  62.  72.  82.  92. 102. 112.]\n [  3.  13.  23.  33.  43.  53.  63.  73.  83.  93. 103. 113.]]\n"
     ]
    }
   ],
   "source": [
    "sides = 12\n",
    "vertices = np.zeros((3,sides))+np.arange(sides)\n",
    "vertices = vertices*10\n",
    "\n",
    "alfa = np.array([1,2,3])\n",
    "#mul = np.arange(sides)\n",
    "print(vertices)\n",
    "\n",
    "print(np.shape(alfa))\n",
    "print(np.shape(alfa)[0])\n",
    "beta= np.reshape(alfa, (1,np.shape(alfa)[0]))\n",
    "print(beta)\n",
    "\n",
    "vertices = vertices + beta.T\n",
    "print(vertices)\n",
    "\n",
    "#print(mul)\n",
    "#vertices = vertices+mul\n",
    "#print(vertices)"
   ]
  },
  {
   "cell_type": "code",
   "execution_count": 47,
   "metadata": {},
   "outputs": [
    {
     "output_type": "stream",
     "name": "stdout",
     "text": [
      "[[0. 0. 0. 0. 0. 0. 0. 0. 0. 0. 0. 0. 0. 0. 0. 0. 0. 0. 0. 0.]]\n[[ 1.        0.951057  0.809017  0.587785  0.309017  0.       -0.309017\n  -0.587785 -0.809017 -0.951057 -1.       -0.951057 -0.809017 -0.587785\n  -0.309017 -0.        0.309017  0.587785  0.809017  0.951057]\n [ 0.        0.309017  0.587785  0.809017  0.951057  1.        0.951057\n   0.809017  0.587785  0.309017  0.       -0.309017 -0.587785 -0.809017\n  -0.951057 -1.       -0.951057 -0.809017 -0.587785 -0.309017]]\n[[ 1.        0.951057  0.809017  0.587785  0.309017  0.       -0.309017\n  -0.587785 -0.809017 -0.951057 -1.       -0.951057 -0.809017 -0.587785\n  -0.309017 -0.        0.309017  0.587785  0.809017  0.951057]\n [ 0.        0.309017  0.587785  0.809017  0.951057  1.        0.951057\n   0.809017  0.587785  0.309017  0.       -0.309017 -0.587785 -0.809017\n  -0.951057 -1.       -0.951057 -0.809017 -0.587785 -0.309017]\n [ 0.        0.        0.        0.        0.        0.        0.\n   0.        0.        0.        0.        0.        0.        0.\n   0.        0.        0.        0.        0.        0.      ]]\n"
     ]
    }
   ],
   "source": [
    "np.set_printoptions(suppress=True, precision=6)\n",
    " \n",
    "sides = 20\n",
    "\n",
    "angle = np.radians(360/sides)\n",
    "vertices = np.zeros((2,sides))+np.arange(sides)\n",
    "vertices = vertices*angle\n",
    "vertices[0,:] = np.cos(vertices[0,:])\n",
    "vertices[1,:] = np.sin(vertices[1,:])\n",
    "outra_matriz = np.zeros((1,np.shape(vertices)[1]))\n",
    "alfa = np.concatenate((vertices,outra_matriz),axis=0)\n",
    "print(outra_matriz)\n",
    "print(vertices)\n",
    "print(alfa)\n"
   ]
  }
 ]
}